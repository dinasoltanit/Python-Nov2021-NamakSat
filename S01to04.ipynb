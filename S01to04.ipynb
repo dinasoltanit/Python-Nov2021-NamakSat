{
  "nbformat": 4,
  "nbformat_minor": 0,
  "metadata": {
    "colab": {
      "name": "S01to04.ipynb",
      "provenance": [],
      "authorship_tag": "ABX9TyOK29X74YW3UPm/zF2Es1sl",
      "include_colab_link": true
    },
    "kernelspec": {
      "name": "python3",
      "display_name": "Python 3"
    },
    "language_info": {
      "name": "python"
    }
  },
  "cells": [
    {
      "cell_type": "markdown",
      "metadata": {
        "id": "view-in-github",
        "colab_type": "text"
      },
      "source": [
        "<a href=\"https://colab.research.google.com/github/dinasoltanit/Python-Nov2021-NamakSat/blob/main/S01to04.ipynb\" target=\"_parent\"><img src=\"https://colab.research.google.com/assets/colab-badge.svg\" alt=\"Open In Colab\"/></a>"
      ]
    },
    {
      "cell_type": "code",
      "metadata": {
        "colab": {
          "base_uri": "https://localhost:8080/"
        },
        "id": "5HpCwHrzm3Ae",
        "outputId": "4051cd58-3293-4048-a4f0-08fcb74862dd"
      },
      "source": [
        "print (1 + 2)\n",
        "x = 3\n",
        "y = 5\n",
        "print(x)\n",
        "print (y)"
      ],
      "execution_count": null,
      "outputs": [
        {
          "output_type": "stream",
          "name": "stdout",
          "text": [
            "3\n",
            "3\n",
            "5\n"
          ]
        }
      ]
    },
    {
      "cell_type": "code",
      "metadata": {
        "id": "dwCFuS55xvLW"
      },
      "source": [
        "x,y = y,x"
      ],
      "execution_count": null,
      "outputs": []
    },
    {
      "cell_type": "code",
      "metadata": {
        "colab": {
          "base_uri": "https://localhost:8080/"
        },
        "id": "SmQ_L1M1x8Hr",
        "outputId": "62d40ea3-fe90-45f5-8321-09cb9af5d5d0"
      },
      "source": [
        "print (x)"
      ],
      "execution_count": null,
      "outputs": [
        {
          "output_type": "stream",
          "name": "stdout",
          "text": [
            "5\n"
          ]
        }
      ]
    },
    {
      "cell_type": "code",
      "metadata": {
        "colab": {
          "base_uri": "https://localhost:8080/"
        },
        "id": "3UzX-Aegx-sc",
        "outputId": "1dc80e9c-4c98-4f91-bb3e-63f8478a47ce"
      },
      "source": [
        "2^4"
      ],
      "execution_count": null,
      "outputs": [
        {
          "output_type": "execute_result",
          "data": {
            "text/plain": [
              "6"
            ]
          },
          "metadata": {},
          "execution_count": 8
        }
      ]
    },
    {
      "cell_type": "code",
      "metadata": {
        "colab": {
          "base_uri": "https://localhost:8080/"
        },
        "id": "DEde2jRz4Ki8",
        "outputId": "07571c6d-9878-43f8-b91e-2e625255d6e6"
      },
      "source": [
        "2**4"
      ],
      "execution_count": null,
      "outputs": [
        {
          "output_type": "execute_result",
          "data": {
            "text/plain": [
              "16"
            ]
          },
          "metadata": {},
          "execution_count": 9
        }
      ]
    },
    {
      "cell_type": "code",
      "metadata": {
        "id": "leKU0zg95ARu",
        "colab": {
          "base_uri": "https://localhost:8080/",
          "height": 35
        },
        "outputId": "cba34ee1-a1fd-4468-fc21-290c36703912"
      },
      "source": [
        "'Alice'+'Bob'"
      ],
      "execution_count": null,
      "outputs": [
        {
          "output_type": "execute_result",
          "data": {
            "application/vnd.google.colaboratory.intrinsic+json": {
              "type": "string"
            },
            "text/plain": [
              "'AliceBob'"
            ]
          },
          "metadata": {},
          "execution_count": 1
        }
      ]
    },
    {
      "cell_type": "code",
      "metadata": {
        "colab": {
          "base_uri": "https://localhost:8080/"
        },
        "id": "755HVBGjV1At",
        "outputId": "06d77aa7-03fa-490a-e84d-0b981835ac6e"
      },
      "source": [
        "print('What is your name?')\n",
        "myName = input()\n",
        "print('It is good to meet you, {}'.format(myName))\n"
      ],
      "execution_count": null,
      "outputs": [
        {
          "output_type": "stream",
          "name": "stdout",
          "text": [
            "What is your name?\n",
            "Dina\n",
            "It is good to meet you, Dina\n"
          ]
        }
      ]
    },
    {
      "cell_type": "code",
      "metadata": {
        "colab": {
          "base_uri": "https://localhost:8080/"
        },
        "id": "T7Q58Yv3YS3P",
        "outputId": "dcc9bf11-20fa-482a-f380-00adab4b2866"
      },
      "source": [
        "type(myName)"
      ],
      "execution_count": null,
      "outputs": [
        {
          "output_type": "execute_result",
          "data": {
            "text/plain": [
              "str"
            ]
          },
          "metadata": {},
          "execution_count": 5
        }
      ]
    },
    {
      "cell_type": "code",
      "metadata": {
        "colab": {
          "base_uri": "https://localhost:8080/"
        },
        "id": "buzL8mW2Yo88",
        "outputId": "21572003-8b27-43ac-cef8-ae6c03576821"
      },
      "source": [
        "a = []\n",
        "if a:\n",
        "  print(\"the list is not empty!\")\n",
        "print(\"the list is empty!\")"
      ],
      "execution_count": null,
      "outputs": [
        {
          "output_type": "stream",
          "name": "stdout",
          "text": [
            "the list is empty!\n"
          ]
        }
      ]
    },
    {
      "cell_type": "code",
      "metadata": {
        "colab": {
          "base_uri": "https://localhost:8080/"
        },
        "id": "RIaeCRAeaCie",
        "outputId": "f37b090c-a413-46d6-b8da-7f36e1611511"
      },
      "source": [
        "print(type(29))\n",
        "type(str(29))"
      ],
      "execution_count": null,
      "outputs": [
        {
          "output_type": "stream",
          "name": "stdout",
          "text": [
            "<class 'int'>\n"
          ]
        },
        {
          "output_type": "execute_result",
          "data": {
            "text/plain": [
              "str"
            ]
          },
          "metadata": {},
          "execution_count": 11
        }
      ]
    },
    {
      "cell_type": "code",
      "metadata": {
        "colab": {
          "base_uri": "https://localhost:8080/"
        },
        "id": "qfXTFqrkaeTK",
        "outputId": "c6f1a089-f509-439a-cf3c-51e2166a6b43"
      },
      "source": [
        "float(1)"
      ],
      "execution_count": null,
      "outputs": [
        {
          "output_type": "execute_result",
          "data": {
            "text/plain": [
              "1.0"
            ]
          },
          "metadata": {},
          "execution_count": 12
        }
      ]
    },
    {
      "cell_type": "code",
      "metadata": {
        "id": "bkA6qilPcUNg"
      },
      "source": [
        "#42 === 42.0"
      ],
      "execution_count": null,
      "outputs": []
    },
    {
      "cell_type": "code",
      "metadata": {
        "colab": {
          "base_uri": "https://localhost:8080/"
        },
        "id": "mjItlfsOdlhd",
        "outputId": "af0cb1c2-de8f-4a46-e9f5-bcc1064448c7"
      },
      "source": [
        "name = 'Bob'\n",
        "age = 10\n",
        "if name == 'Alice':\n",
        "    print('Hi, Alice.')\n",
        "elif age < 12:\n",
        "    print('You are not Alice, kiddo.')\n",
        "else:\n",
        "    print('You are neither Alice nor a little kid.')"
      ],
      "execution_count": null,
      "outputs": [
        {
          "output_type": "stream",
          "name": "stdout",
          "text": [
            "You are not Alice, kiddo.\n"
          ]
        }
      ]
    },
    {
      "cell_type": "code",
      "metadata": {
        "colab": {
          "base_uri": "https://localhost:8080/"
        },
        "id": "fnyUcvgfhSy_",
        "outputId": "c40f3639-6056-4e29-c618-255177c0f45a"
      },
      "source": [
        "spam = 0\n",
        "while spam < 5:\n",
        "    print('Hello, world.',spam)\n",
        "    spam = spam + 1"
      ],
      "execution_count": null,
      "outputs": [
        {
          "output_type": "stream",
          "name": "stdout",
          "text": [
            "Hello, world. 0\n",
            "Hello, world. 1\n",
            "Hello, world. 2\n",
            "Hello, world. 3\n",
            "Hello, world. 4\n"
          ]
        }
      ]
    },
    {
      "cell_type": "code",
      "metadata": {
        "colab": {
          "base_uri": "https://localhost:8080/"
        },
        "id": "zSKL4ITHhip_",
        "outputId": "f88971b2-189c-419d-fb05-181ce67bcd28"
      },
      "source": [
        "while True:\n",
        "    print('Please type your name.')\n",
        "    name = input()\n",
        "    if name == 'Alice':\n",
        "        print('You are Alice!')\n",
        "        break\n",
        "    print('You are not Alice')\n",
        "print('Thank you!')"
      ],
      "execution_count": null,
      "outputs": [
        {
          "output_type": "stream",
          "name": "stdout",
          "text": [
            "Please type your name.\n",
            "Dina\n",
            "You are not Alice\n",
            "Please type your name.\n",
            "Alice\n",
            "You are Alice!\n",
            "Thank you!\n"
          ]
        }
      ]
    },
    {
      "cell_type": "code",
      "metadata": {
        "colab": {
          "base_uri": "https://localhost:8080/"
        },
        "id": "r8PPzvlAh8tp",
        "outputId": "6cb221de-d9ad-4c18-f90f-786ed3565626"
      },
      "source": [
        "while True:\n",
        "    print('Who are you?')\n",
        "    name = input()\n",
        "    if name != 'Joe':\n",
        "        continue\n",
        "    print('Hello, Joe. What is the password? (It is a fish.)')\n",
        "    password = input()\n",
        "    if password == 'swordfish':\n",
        "        break\n",
        "print('Access granted.')"
      ],
      "execution_count": null,
      "outputs": [
        {
          "output_type": "stream",
          "name": "stdout",
          "text": [
            "Who are you?\n",
            "Joe\n",
            "Hello, Joe. What is the password? (It is a fish.)\n",
            "swordfish\n",
            "Access granted.\n"
          ]
        }
      ]
    },
    {
      "cell_type": "code",
      "metadata": {
        "colab": {
          "base_uri": "https://localhost:8080/"
        },
        "id": "7ARI_oETkLVx",
        "outputId": "1b1af974-2138-4574-a7e1-ebef483d8c15"
      },
      "source": [
        "import random\n",
        "for i in range(5):\n",
        "    print(random.randint(1, 10))"
      ],
      "execution_count": null,
      "outputs": [
        {
          "output_type": "stream",
          "name": "stdout",
          "text": [
            "2\n",
            "7\n",
            "7\n",
            "1\n",
            "1\n"
          ]
        }
      ]
    },
    {
      "cell_type": "code",
      "metadata": {
        "colab": {
          "base_uri": "https://localhost:8080/"
        },
        "id": "IzOzvnIqketS",
        "outputId": "505115a3-0d93-4e82-9d0f-215e0520a977"
      },
      "source": [
        "print('Hello...', end='')\n",
        "print('World')"
      ],
      "execution_count": null,
      "outputs": [
        {
          "output_type": "stream",
          "name": "stdout",
          "text": [
            "Hello...World\n"
          ]
        }
      ]
    },
    {
      "cell_type": "code",
      "metadata": {
        "colab": {
          "base_uri": "https://localhost:8080/"
        },
        "id": "YNJxJ0TRmBEU",
        "outputId": "573d2723-ae40-4021-9f7b-b730f7722ed6"
      },
      "source": [
        "def spam():\n",
        "    #global eggs\n",
        "    eggss = 'spam'\n",
        "\n",
        "eggs = 'global'\n",
        "spam()\n",
        "print(eggs)"
      ],
      "execution_count": null,
      "outputs": [
        {
          "output_type": "stream",
          "name": "stdout",
          "text": [
            "global\n"
          ]
        }
      ]
    },
    {
      "cell_type": "code",
      "metadata": {
        "id": "qeBsIH1ioAON",
        "colab": {
          "base_uri": "https://localhost:8080/"
        },
        "outputId": "5baaa79e-15e0-4e06-cd8b-6705c8e41fe6"
      },
      "source": [
        "def spam(divideBy):\n",
        "    try:\n",
        "        return 42 / divideBy\n",
        "    except ZeroDivisionError as e:\n",
        "        print('Error: Invalid argument: {}'.format(e))\n",
        "\n",
        "print(spam(2))\n",
        "print(spam(12))\n",
        "print(spam(0))\n",
        "print(spam(1))"
      ],
      "execution_count": 2,
      "outputs": [
        {
          "output_type": "stream",
          "name": "stdout",
          "text": [
            "21.0\n",
            "3.5\n",
            "Error: Invalid argument: division by zero\n",
            "None\n",
            "42.0\n"
          ]
        }
      ]
    },
    {
      "cell_type": "code",
      "metadata": {
        "colab": {
          "base_uri": "https://localhost:8080/"
        },
        "id": "dJKpc-ghxznc",
        "outputId": "a77b2916-7bc1-420a-9a0b-af9352c7592c"
      },
      "source": [
        "def spam(divideBy):\n",
        "    try:\n",
        "        return 42 / divideBy\n",
        "    except ZeroDivisionError as e:\n",
        "        print('Error: Invalid argument: {}'.format(e))\n",
        "    finally:\n",
        "        print(\"-- division finished --\")\n",
        "print(spam(0))"
      ],
      "execution_count": 4,
      "outputs": [
        {
          "output_type": "stream",
          "name": "stdout",
          "text": [
            "Error: Invalid argument: division by zero\n",
            "-- division finished --\n",
            "None\n"
          ]
        }
      ]
    },
    {
      "cell_type": "code",
      "metadata": {
        "colab": {
          "base_uri": "https://localhost:8080/"
        },
        "id": "Hlr7MANMyvvz",
        "outputId": "3fae2218-3565-403d-e5a7-2edf8584f764"
      },
      "source": [
        "spam = ['cat', 'bat', 'rat', 'elephant']\n",
        "spamp = spam.append( spam[1] )\n",
        "spam.insert(2,'snake')\n",
        "spam[0:6]"
      ],
      "execution_count": 12,
      "outputs": [
        {
          "output_type": "execute_result",
          "data": {
            "text/plain": [
              "['cat', 'bat', 'snake', 'rat', 'elephant', 'bat']"
            ]
          },
          "metadata": {},
          "execution_count": 12
        }
      ]
    },
    {
      "cell_type": "code",
      "metadata": {
        "colab": {
          "base_uri": "https://localhost:8080/"
        },
        "id": "opmH7IiV0NKz",
        "outputId": "6a93429b-04e9-4dab-d265-81ac6f2e94a5"
      },
      "source": [
        "import time\n",
        "tic = time.time()\n",
        "spam = ['cat', 'bat', 'rat', 'elephant']\n",
        "spam[0:-1]\n",
        "toc = time.time()\n",
        "print(toc-tic)"
      ],
      "execution_count": 24,
      "outputs": [
        {
          "output_type": "stream",
          "name": "stdout",
          "text": [
            "7.557868957519531e-05\n"
          ]
        }
      ]
    },
    {
      "cell_type": "code",
      "metadata": {
        "colab": {
          "base_uri": "https://localhost:8080/"
        },
        "id": "ck0cPmAE1-Cx",
        "outputId": "2e656cc5-f435-41f7-c7aa-b6ecec53984e"
      },
      "source": [
        "import time\n",
        "tic = time.time()\n",
        "spam = ['cat', 'bat', 'rat', 'elephant']\n",
        "spam[0:3]\n",
        "toc = time.time()\n",
        "print(toc-tic)"
      ],
      "execution_count": 27,
      "outputs": [
        {
          "output_type": "stream",
          "name": "stdout",
          "text": [
            "0.00010800361633300781\n"
          ]
        }
      ]
    },
    {
      "cell_type": "code",
      "metadata": {
        "colab": {
          "base_uri": "https://localhost:8080/"
        },
        "id": "lQUQPTw24Tv9",
        "outputId": "b9d1332c-700c-48a7-945c-70f3e7abb580"
      },
      "source": [
        "spam = ['cat', 'bat', 'rat', 'elephant']\n",
        "del spam[1]\n",
        "print(spam[:])"
      ],
      "execution_count": 30,
      "outputs": [
        {
          "output_type": "stream",
          "name": "stdout",
          "text": [
            "['cat', 'rat', 'elephant']\n"
          ]
        }
      ]
    },
    {
      "cell_type": "code",
      "metadata": {
        "colab": {
          "base_uri": "https://localhost:8080/"
        },
        "id": "IdLjFAPh5nEh",
        "outputId": "80ada6a7-d79b-4b63-954f-67b9d60da27b"
      },
      "source": [
        "supplies = ['pens', 'staplers', 'flame-throwers', 'binders']\n",
        "for i, supply in enumerate(supplies):\n",
        "    print('Index {} in supplies is: {}'.format(str(i), supply))"
      ],
      "execution_count": 31,
      "outputs": [
        {
          "output_type": "stream",
          "name": "stdout",
          "text": [
            "Index 0 in supplies is: pens\n",
            "Index 1 in supplies is: staplers\n",
            "Index 2 in supplies is: flame-throwers\n",
            "Index 3 in supplies is: binders\n"
          ]
        }
      ]
    },
    {
      "cell_type": "code",
      "metadata": {
        "colab": {
          "base_uri": "https://localhost:8080/"
        },
        "id": "-4hsHdRR6OXq",
        "outputId": "1ef49cb0-a6f1-483d-bc69-4481c5564281"
      },
      "source": [
        "name = ['Pete', 'John', 'Elizabeth']\n",
        "age = [6, 23, 44]\n",
        "\n",
        "for n, a in zip(name, age):\n",
        "    print('{} is {} years old'.format(n, a))\n",
        "zip(name,age)"
      ],
      "execution_count": 34,
      "outputs": [
        {
          "output_type": "stream",
          "name": "stdout",
          "text": [
            "Pete is 6 years old\n",
            "John is 23 years old\n",
            "Elizabeth is 44 years old\n"
          ]
        },
        {
          "output_type": "execute_result",
          "data": {
            "text/plain": [
              "<zip at 0x7f0cd0cb5140>"
            ]
          },
          "metadata": {},
          "execution_count": 34
        }
      ]
    },
    {
      "cell_type": "code",
      "metadata": {
        "colab": {
          "base_uri": "https://localhost:8080/"
        },
        "id": "dJrkvCqg9PL-",
        "outputId": "39de8d93-1664-4668-cec4-af8b5efa4b6e"
      },
      "source": [
        "help(zip)"
      ],
      "execution_count": 35,
      "outputs": [
        {
          "output_type": "stream",
          "name": "stdout",
          "text": [
            "Help on class zip in module builtins:\n",
            "\n",
            "class zip(object)\n",
            " |  zip(*iterables) --> zip object\n",
            " |  \n",
            " |  Return a zip object whose .__next__() method returns a tuple where\n",
            " |  the i-th element comes from the i-th iterable argument.  The .__next__()\n",
            " |  method continues until the shortest iterable in the argument sequence\n",
            " |  is exhausted and then it raises StopIteration.\n",
            " |  \n",
            " |  Methods defined here:\n",
            " |  \n",
            " |  __getattribute__(self, name, /)\n",
            " |      Return getattr(self, name).\n",
            " |  \n",
            " |  __iter__(self, /)\n",
            " |      Implement iter(self).\n",
            " |  \n",
            " |  __next__(self, /)\n",
            " |      Implement next(self).\n",
            " |  \n",
            " |  __reduce__(...)\n",
            " |      Return state information for pickling.\n",
            " |  \n",
            " |  ----------------------------------------------------------------------\n",
            " |  Static methods defined here:\n",
            " |  \n",
            " |  __new__(*args, **kwargs) from builtins.type\n",
            " |      Create and return a new object.  See help(type) for accurate signature.\n",
            "\n"
          ]
        }
      ]
    },
    {
      "cell_type": "markdown",
      "metadata": {
        "id": "PhNvaRg8BIBb"
      },
      "source": [
        "![image.png](data:image/png;base64,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)"
      ]
    },
    {
      "cell_type": "code",
      "metadata": {
        "colab": {
          "base_uri": "https://localhost:8080/"
        },
        "id": "yggK5ml-Bgml",
        "outputId": "030b53b0-e44e-40ce-88ff-4fb92e00330d"
      },
      "source": [
        "spam = ['Zophie', 'Pooka', 'Fat-tail', 'Pooka']\n",
        "spam.index('Pooka')"
      ],
      "execution_count": 40,
      "outputs": [
        {
          "output_type": "execute_result",
          "data": {
            "text/plain": [
              "1"
            ]
          },
          "metadata": {},
          "execution_count": 40
        }
      ]
    },
    {
      "cell_type": "code",
      "metadata": {
        "id": "8c-0y0NfB5ct"
      },
      "source": [
        ""
      ],
      "execution_count": null,
      "outputs": []
    }
  ]
}